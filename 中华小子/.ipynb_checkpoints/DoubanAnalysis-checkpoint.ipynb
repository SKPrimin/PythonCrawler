{
 "cells": [
  {
   "cell_type": "markdown",
   "metadata": {
    "collapsed": true,
    "pycharm": {
     "name": "#%% md\n"
    }
   },
   "source": [
    "## 豆瓣影评分析.\n",
    "通过程序获取豆瓣的评论，共计获取了20页，由于部分评论出错导致本页面其它评论也无法获取，共计365条数据"
   ]
  },
  {
   "cell_type": "code",
   "execution_count": 42,
   "metadata": {
    "pycharm": {
     "name": "#%%\n"
    }
   },
   "outputs": [],
   "source": [
    "import numpy as np\n",
    "import pandas as pd\n",
    "import matplotlib.pyplot as plt"
   ]
  },
  {
   "cell_type": "code",
   "execution_count": 5,
   "metadata": {
    "pycharm": {
     "name": "#%%\n"
    }
   },
   "outputs": [
    {
     "data": {
      "text/html": [
       "<div>\n",
       "<style scoped>\n",
       "    .dataframe tbody tr th:only-of-type {\n",
       "        vertical-align: middle;\n",
       "    }\n",
       "\n",
       "    .dataframe tbody tr th {\n",
       "        vertical-align: top;\n",
       "    }\n",
       "\n",
       "    .dataframe thead th {\n",
       "        text-align: right;\n",
       "    }\n",
       "</style>\n",
       "<table border=\"1\" class=\"dataframe\">\n",
       "  <thead>\n",
       "    <tr style=\"text-align: right;\">\n",
       "      <th></th>\n",
       "      <th>时间</th>\n",
       "      <th>星级</th>\n",
       "      <th>评论</th>\n",
       "    </tr>\n",
       "  </thead>\n",
       "  <tbody>\n",
       "    <tr>\n",
       "      <th>0</th>\n",
       "      <td>2014-10-17</td>\n",
       "      <td>5</td>\n",
       "      <td>童年最爱的动画之一，再无下文一直是心中的痛。</td>\n",
       "    </tr>\n",
       "    <tr>\n",
       "      <th>1</th>\n",
       "      <td>2013-05-31</td>\n",
       "      <td>5</td>\n",
       "      <td>合拍片。用中国元素打造中国魔幻，这是国产应该有的姿态！</td>\n",
       "    </tr>\n",
       "    <tr>\n",
       "      <th>2</th>\n",
       "      <td>2015-03-22</td>\n",
       "      <td>4</td>\n",
       "      <td>曾经让我觉得中国动漫还有希望的动画片</td>\n",
       "    </tr>\n",
       "    <tr>\n",
       "      <th>3</th>\n",
       "      <td>2016-06-08</td>\n",
       "      <td>4</td>\n",
       "      <td>制作在当时堪称精良，虽然被腰斩，但因借鉴火影的单元剧模式，在结构上还是相对完整，值得回味。P...</td>\n",
       "    </tr>\n",
       "    <tr>\n",
       "      <th>4</th>\n",
       "      <td>2016-02-13</td>\n",
       "      <td>5</td>\n",
       "      <td>我当年差点没因为这个出家我会乱说？！</td>\n",
       "    </tr>\n",
       "    <tr>\n",
       "      <th>...</th>\n",
       "      <td>...</td>\n",
       "      <td>...</td>\n",
       "      <td>...</td>\n",
       "    </tr>\n",
       "    <tr>\n",
       "      <th>360</th>\n",
       "      <td>2017-08-27</td>\n",
       "      <td>4</td>\n",
       "      <td>跟同事聊起国产动画，翻出来看，06年的现在看除了打斗场面有些不流畅以外，可以说是制作精良，画...</td>\n",
       "    </tr>\n",
       "    <tr>\n",
       "      <th>361</th>\n",
       "      <td>2020-04-17</td>\n",
       "      <td>5</td>\n",
       "      <td>很好看，不过当年没看完，，，，才知道这部动画没有结局</td>\n",
       "    </tr>\n",
       "    <tr>\n",
       "      <th>362</th>\n",
       "      <td>2019-07-27</td>\n",
       "      <td>5</td>\n",
       "      <td>小时候就有印象的，电视放了好几次，但我其实没有太喜欢</td>\n",
       "    </tr>\n",
       "    <tr>\n",
       "      <th>363</th>\n",
       "      <td>2020-08-24</td>\n",
       "      <td>5</td>\n",
       "      <td>我记得挖了坑没有填 anyway 特别cult 小学放学很晚 动画城看不到 只能晚上守着少儿...</td>\n",
       "    </tr>\n",
       "    <tr>\n",
       "      <th>364</th>\n",
       "      <td>2018-08-02</td>\n",
       "      <td>5</td>\n",
       "      <td>小兰真男主！</td>\n",
       "    </tr>\n",
       "  </tbody>\n",
       "</table>\n",
       "<p>365 rows × 3 columns</p>\n",
       "</div>"
      ],
      "text/plain": [
       "             时间  星级                                                 评论\n",
       "0    2014-10-17   5                             童年最爱的动画之一，再无下文一直是心中的痛。\n",
       "1    2013-05-31   5                        合拍片。用中国元素打造中国魔幻，这是国产应该有的姿态！\n",
       "2    2015-03-22   4                                 曾经让我觉得中国动漫还有希望的动画片\n",
       "3    2016-06-08   4  制作在当时堪称精良，虽然被腰斩，但因借鉴火影的单元剧模式，在结构上还是相对完整，值得回味。P...\n",
       "4    2016-02-13   5                                 我当年差点没因为这个出家我会乱说？！\n",
       "..          ...  ..                                                ...\n",
       "360  2017-08-27   4  跟同事聊起国产动画，翻出来看，06年的现在看除了打斗场面有些不流畅以外，可以说是制作精良，画...\n",
       "361  2020-04-17   5                         很好看，不过当年没看完，，，，才知道这部动画没有结局\n",
       "362  2019-07-27   5                         小时候就有印象的，电视放了好几次，但我其实没有太喜欢\n",
       "363  2020-08-24   5  我记得挖了坑没有填 anyway 特别cult 小学放学很晚 动画城看不到 只能晚上守着少儿...\n",
       "364  2018-08-02   5                                             小兰真男主！\n",
       "\n",
       "[365 rows x 3 columns]"
      ]
     },
     "execution_count": 5,
     "metadata": {},
     "output_type": "execute_result"
    }
   ],
   "source": [
    "# 读入评论数据 并分行\n",
    "df = pd.read_excel(\"中华小子评论.xlsx\")\n",
    "df.columns = ['时间', '星级', '评论']\n",
    "df"
   ]
  },
  {
   "cell_type": "markdown",
   "metadata": {
    "pycharm": {
     "name": "#%% md\n"
    }
   },
   "source": [
    "### 星级统计\n",
    "文档中共计365条星级数据,由于星级恰好是1~5的数字，通过可以计算列表各元素之和再平均得出评分，再统计各星级出现次数时，创建一个列表，索引为星级-1，如果星级为多少就在列表对应位置加1"
   ]
  },
  {
   "cell_type": "code",
   "execution_count": 9,
   "metadata": {
    "pycharm": {
     "name": "#%%\n"
    }
   },
   "outputs": [],
   "source": [
    "# 总分数\n",
    "sum_star = 0\n",
    "# 各分数次数，依照索引依次为1,2,3,4,5\n",
    "star_list = [0,0,0,0,0]\n",
    "for star in df['星级']:\n",
    "    sum_star += star\n",
    "    index = star-1\n",
    "    star_list[index] += 1"
   ]
  },
  {
   "cell_type": "code",
   "execution_count": 17,
   "metadata": {
    "pycharm": {
     "name": "#%%\n"
    }
   },
   "outputs": [
    {
     "data": {
      "image/png": "[encoded data removed]",
      "text/plain": [
       "<Figure size 432x432 with 1 Axes>"
      ]
     },
     "metadata": {},
     "output_type": "display_data"
    }
   ],
   "source": [
    "# 星级评分保留两位小数\n",
    "average_star = round(sum_star/len(df['星级']),2)\n",
    "#设置中文显示\n",
    "plt.rcParams['font.sans-serif']='SimHei'\n",
    "# 设置画布，画出正圆\n",
    "plt.figure(figsize=(6,6))\n",
    "#定义饼图的标签，标签是列表\n",
    "label=['一星','二星','三星','四星','五星']\n",
    "# 仅四星级向外扩大\n",
    "explode=[0,0,0,0.1,0]\n",
    "colors = ['blue','fuchsia','lightcoral','azure','peachpuff']\n",
    "plt.pie(star_list,explode=explode,labels=label,colors=colors,autopct='%1.1f%%')#绘制饼图\n",
    "plt.title(f'中华小子星级分布 平均分{average_star}')\n",
    "plt.show()"
   ]
  },
  {
   "cell_type": "markdown",
   "metadata": {
    "pycharm": {
     "name": "#%% md\n"
    }
   },
   "source": [
    "### 年度评论量\n",
    "在获取的365条评论中，通过分析评论时间，可以反映出其热度，由于其评论排序与时间也有关，收集的365调数据大多是近几年"
   ]
  },
  {
   "cell_type": "code",
   "execution_count": 78,
   "metadata": {
    "pycharm": {
     "name": "#%%\n"
    }
   },
   "outputs": [
    {
     "data": {
      "image/png": "[encoded data removed]",
      "text/plain": [
       "<Figure size 432x288 with 1 Axes>"
      ]
     },
     "metadata": {
      "needs_background": "light"
     },
     "output_type": "display_data"
    }
   ],
   "source": [
    "# 为了使分月时，第二列显示出数量重新分列，\n",
    "df.columns = ['时间','数量',' ']\n",
    "# 将数据类型转换为日期类型\n",
    "df['时间'] = pd.to_datetime(df['时间'])\n",
    "# 将date设置为index\n",
    "df_time = df.set_index('时间')\n",
    "# 依照年份分离数据 共统计出了 2009到2021的数据\n",
    "df_month = df_time.resample('Y').sum().to_period('Y')\n",
    "\n",
    "# make data\n",
    "x = [i for i in range(2009,2022)]\n",
    "y = df_month['数量']\n",
    "\n",
    "# plot\n",
    "fig, ax = plt.subplots()\n",
    "ax.stem(x, y)\n",
    "ax.set(xlim=(2008, 2022), xticks=np.arange(2009, 2021))\n",
    "ax.set_title(\"近年份评论量\")\n",
    "ax.set_xlabel(\"年份\")\n",
    "ax.set_ylabel(\"评论量\")\n",
    "plt.show()"
   ]
  },
  {
   "cell_type": "markdown",
   "metadata": {
    "pycharm": {
     "name": "#%% md\n"
    }
   },
   "source": [
    "### 月度评论量\n",
    "通过对年度评论量大的近三年数据进行分析，我们可以发现评论量在每年的3月和8月激增，这也与寒暑假相对应"
   ]
  },
  {
   "cell_type": "code",
   "execution_count": 79,
   "metadata": {
    "pycharm": {
     "name": "#%%\n"
    }
   },
   "outputs": [
    {
     "data": {
      "image/png": "[encoded data removed]",
      "text/plain": [
       "<Figure size 1008x360 with 1 Axes>"
      ]
     },
     "metadata": {
      "needs_background": "light"
     },
     "output_type": "display_data"
    }
   ],
   "source": [
    "# 为了使分月时，第二列显示出数量重新分列，\n",
    "df.columns = ['时间','数量',' ']\n",
    "# 将数据类型转换为日期类型\n",
    "df['时间'] = pd.to_datetime(df['时间'])\n",
    "# 将date设置为index\n",
    "df_time = df.set_index('时间')\n",
    "# 依照月份份分离数据 共统计出了 2009到2021的数据\n",
    "df_month = df_time.resample('M').sum().to_period('M')\n",
    "# 仅提取2019-2022的月份数据\n",
    "df_month = df_month[-36:]\n",
    "\n",
    "# make data\n",
    "mouth_list = []\n",
    "for y in range(2019,2022):\n",
    "    for m in range(1,13):\n",
    "        mouth_list.append(f\"{y}-{m}\")\n",
    "\n",
    "# plot\n",
    "fig, ax = plt.subplots(figsize=(14,5))\n",
    "ax.plot(mouth_list,df_month['数量'], linewidth=2.0)\n",
    "plt.xticks(rotation=30)\n",
    "ax.set_xlabel(\"月份\")\n",
    "ax.set_ylabel(\"评论量\")\n",
    "plt.show()"
   ]
  },
  {
   "cell_type": "markdown",
   "metadata": {
    "pycharm": {
     "name": "#%% md\n"
    }
   },
   "source": [
    "### 句子云图\n",
    "\n"
   ]
  },
  {
   "cell_type": "code",
   "execution_count": 82,
   "metadata": {
    "pycharm": {
     "name": "#%%\n"
    }
   },
   "outputs": [
    {
     "data": {
      "text/plain": [
       "<wordcloud.wordcloud.WordCloud at 0x2899703c190>"
      ]
     },
     "execution_count": 82,
     "metadata": {},
     "output_type": "execute_result"
    }
   ],
   "source": [
    "#导包\n",
    "import wordcloud\n",
    "# 重新分列\n",
    "df.columns = ['时间', '星级', '评论']\n",
    "sentence_sum = ''\n",
    "\n",
    "# 遍历评论\n",
    "for comment in df['评论']:\n",
    "    # print(comment)\n",
    "    sentence_sum = sentence_sum + ' ' + comment\n",
    "font = r'C:\\Windows\\Fonts\\simfang.ttf'\n",
    "w = wordcloud.WordCloud(\n",
    "    font_path=font,\n",
    "    background_color='white',\n",
    "    width=3840,\n",
    "    height=2160,\n",
    ")\n",
    "w.generate(sentence_sum)\n",
    "w.to_file('中华小子句云图.png')"
   ]
  },
  {
   "cell_type": "markdown",
   "metadata": {
    "pycharm": {
     "name": "#%% md\n"
    }
   },
   "source": [
    "### 评论关键词云图"
   ]
  },
  {
   "cell_type": "code",
   "execution_count": 90,
   "metadata": {
    "pycharm": {
     "name": "#%%\n"
    }
   },
   "outputs": [
    {
     "data": {
      "text/plain": [
       "<wordcloud.wordcloud.WordCloud at 0x289972355b0>"
      ]
     },
     "execution_count": 90,
     "metadata": {},
     "output_type": "execute_result"
    }
   ],
   "source": [
    "# 导入jieba分词包\n",
    "import jieba\n",
    "#  存放解析出的关键词\n",
    "keywords = []\n",
    "# 过滤器，去除其中的词\n",
    "filter=['画片','但是','真的','虽然','时候','现在','还是','一个','小时','觉得']\n",
    "for comment in df['评论']:\n",
    "    # jieba 切开句子\n",
    "    word_list = jieba.lcut_for_search(comment)\n",
    "    # 列表推导式去除单个字符的干扰项\n",
    "    word_list = [i for i in word_list if (len(i)>1 and i not in filter)]\n",
    "    # 过滤后的列表加在一起\n",
    "    keywords +=word_list\n",
    "\n",
    "font = r'C:\\Windows\\Fonts\\simfang.ttf'\n",
    "w = wordcloud.WordCloud(\n",
    "    font_path=font,\n",
    "    background_color='white',\n",
    "    width=3840,\n",
    "    height=2160,\n",
    ")\n",
    "# 列表最终加载成字符串\n",
    "w.generate(\" \".join(keywords))\n",
    "w.to_file('中华小子词云图.png')"
   ]
  }
 ],
 "metadata": {
  "kernelspec": {
   "display_name": "Python 3",
   "language": "python",
   "name": "python3"
  },
  "language_info": {
   "codemirror_mode": {
    "name": "ipython",
    "version": 3
   },
   "file_extension": ".py",
   "mimetype": "text/x-python",
   "name": "python",
   "nbconvert_exporter": "python",
   "pygments_lexer": "ipython3",
   "version": "3.8.8"
  }
 },
 "nbformat": 4,
 "nbformat_minor": 1
}
